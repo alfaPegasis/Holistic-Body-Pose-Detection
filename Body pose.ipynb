{
 "cells": [
  {
   "cell_type": "code",
   "execution_count": 2,
   "id": "de3a719c",
   "metadata": {},
   "outputs": [
    {
     "name": "stdout",
     "output_type": "stream",
     "text": [
      "Requirement already satisfied: mediapipe in ./bodypose/lib/python3.9/site-packages (0.8.5)\n",
      "Requirement already satisfied: opencv-python in ./bodypose/lib/python3.9/site-packages (4.5.2.54)\n",
      "Requirement already satisfied: attrs>=19.1.0 in ./bodypose/lib/python3.9/site-packages (from mediapipe) (21.2.0)\n",
      "Requirement already satisfied: opencv-contrib-python in ./bodypose/lib/python3.9/site-packages (from mediapipe) (4.5.2.54)\n",
      "Requirement already satisfied: wheel in ./bodypose/lib/python3.9/site-packages (from mediapipe) (0.36.2)\n",
      "Requirement already satisfied: numpy in ./bodypose/lib/python3.9/site-packages (from mediapipe) (1.20.3)\n",
      "Requirement already satisfied: absl-py in ./bodypose/lib/python3.9/site-packages (from mediapipe) (0.13.0)\n",
      "Requirement already satisfied: protobuf>=3.11.4 in ./bodypose/lib/python3.9/site-packages (from mediapipe) (3.17.3)\n",
      "Requirement already satisfied: six in ./bodypose/lib/python3.9/site-packages (from mediapipe) (1.16.0)\n"
     ]
    }
   ],
   "source": [
    "!pip install mediapipe opencv-python"
   ]
  },
  {
   "cell_type": "code",
   "execution_count": 3,
   "id": "4d74ad36",
   "metadata": {},
   "outputs": [],
   "source": [
    "import cv2\n",
    "import mediapipe as mp\n",
    "import os\n",
    "import uuid"
   ]
  },
  {
   "cell_type": "code",
   "execution_count": 4,
   "id": "28ace1f8",
   "metadata": {},
   "outputs": [],
   "source": [
    "mp_drawing=mp.solutions.drawing_utils\n",
    "mp_holistic=mp.solutions.holistic"
   ]
  },
  {
   "cell_type": "code",
   "execution_count": 12,
   "id": "ae0e4875",
   "metadata": {},
   "outputs": [],
   "source": [
    "cap=cv2.VideoCapture(0)\n",
    "while cap.isOpened():\n",
    "    ret,frame=cap.read()\n",
    "    image=cv2.cvtColor(frame,cv2.COLOR_BGR2RGB)\n",
    "        mp_drawing.draw_landmarks(image,results.face_landmarks, mp_holistic.FACE_CONNECTIONS\n",
    "    cv2.imshow(\"Body Pose Detection\", image)\n",
    "    if cv2.waitKey(10) & 0xFF==ord('q'):\n",
    "        break\n",
    "cap.release()\n",
    "cv2.destroyAllWindows()"
   ]
  },
  {
   "cell_type": "code",
   "execution_count": 8,
   "id": "0e661a64",
   "metadata": {},
   "outputs": [],
   "source": [
    "\n",
    "cap=cv2.VideoCapture(0)\n",
    "with mp_holistic.Holistic(min_detection_confidence=0.8,min_tracking_confidence=0.5) as holistic:\n",
    "    while cap.isOpened():\n",
    "        ret,frame=cap.read()\n",
    "        #color conversion\n",
    "        image=cv2.cvtColor(frame,cv2.COLOR_BGR2RGB)\n",
    "        results=holistic.process(image)\n",
    "        #print(results.pose_landmarks)\n",
    "        #recolor\n",
    "        image=cv2.cvtColor(frame,cv2.COLOR_RGB2BGR)\n",
    "        #face \n",
    "        mp_drawing.draw_landmarks(image,results.face_landmarks, mp_holistic.FACE_CONNECTIONS,\n",
    "                                  mp_drawing.DrawingSpec(color=(121,22,76),thickness=1,circle_radius=1))\n",
    "        #right hand\n",
    "        mp_drawing.draw_landmarks(image,results.right_hand_landmarks, mp_holistic.HAND_CONNECTIONS,\n",
    "                                 mp_drawing.DrawingSpec(color=(121,22,76),thickness=2,circle_radius=4),\n",
    "                                 mp_drawing.DrawingSpec(color=(121,22,250),thickness=2,circle_radius=2))\n",
    "        #left hand\n",
    "        mp_drawing.draw_landmarks(image,results.left_hand_landmarks, mp_holistic.HAND_CONNECTIONS,\n",
    "                                 mp_drawing.DrawingSpec(color=(121,22,76),thickness=2,circle_radius=4),\n",
    "                                 mp_drawing.DrawingSpec(color=(121,22,250),thickness=2,circle_radius=2))\n",
    "        #pose\n",
    "        mp_drawing.draw_landmarks(image,results.pose_landmarks, mp_holistic.POSE_CONNECTIONS)\n",
    "        \n",
    "        cv2.imshow(\"Body Pose Detection\", image)\n",
    "        if cv2.waitKey(10) & 0xFF==ord('q'):\n",
    "            break\n",
    "cap.release()\n",
    "cv2.destroyAllWindows()"
   ]
  },
  {
   "cell_type": "code",
   "execution_count": null,
   "id": "0e6f463e",
   "metadata": {},
   "outputs": [],
   "source": []
  }
 ],
 "metadata": {
  "kernelspec": {
   "display_name": "bodypose",
   "language": "python",
   "name": "bodypose"
  },
  "language_info": {
   "codemirror_mode": {
    "name": "ipython",
    "version": 3
   },
   "file_extension": ".py",
   "mimetype": "text/x-python",
   "name": "python",
   "nbconvert_exporter": "python",
   "pygments_lexer": "ipython3",
   "version": "3.9.5"
  }
 },
 "nbformat": 4,
 "nbformat_minor": 5
}
